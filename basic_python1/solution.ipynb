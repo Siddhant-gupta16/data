{
 "cells": [
  {
   "cell_type": "code",
   "execution_count": 10,
   "metadata": {},
   "outputs": [],
   "source": [
    "import numpy as np\n",
    "import pandas as pd\n"
   ]
  },
  {
   "cell_type": "code",
   "execution_count": null,
   "metadata": {},
   "outputs": [],
   "source": []
  },
  {
   "cell_type": "code",
   "execution_count": null,
   "metadata": {},
   "outputs": [
    {
     "name": "stdout",
     "output_type": "stream",
     "text": [
      "[[18  6  1  1  5]\n",
      " [18 20  1 20 14]\n",
      " [20 20  1  2  1]\n",
      " [14 11  1  7 18]\n",
      " [ 2 17  1 18  6]]\n"
     ]
    }
   ],
   "source": [
    "arr = np.random.randint(1,21 ,size=(5,5))\n",
    "#print(arr)\n",
    "#replacing elemnt in 3rd colum  with one\n",
    "\n",
    "arr[:,2]=1\n",
    "print(arr)\n",
    "\n"
   ]
  },
  {
   "cell_type": "code",
   "execution_count": 16,
   "metadata": {},
   "outputs": [
    {
     "name": "stdout",
     "output_type": "stream",
     "text": [
      "[[ 1  2  3  4]\n",
      " [ 5  6  7  8]\n",
      " [ 9 10 11 12]\n",
      " [13 14 15 16]]\n",
      "[[ 0  2  3  4]\n",
      " [ 5  0  7  8]\n",
      " [ 9 10  0 12]\n",
      " [13 14 15  0]]\n"
     ]
    }
   ],
   "source": [
    "aa = np.arange(1,17).reshape((4,4))\n",
    "print(aa)\n",
    "\n",
    "\n",
    "##replacing daigonal elemn\n",
    "\n",
    "np.fill_diagonal(aa,0)\n",
    "\n",
    "print(aa)\n",
    "\n"
   ]
  },
  {
   "cell_type": "code",
   "execution_count": null,
   "metadata": {},
   "outputs": [
    {
     "name": "stdout",
     "output_type": "stream",
     "text": [
      "[[ 1  2  3  4  5]\n",
      " [ 6  7  8  9 10]\n",
      " [11 12 13 14 15]\n",
      " [16 17 18 19 20]\n",
      " [21 22 23 24 25]]\n"
     ]
    }
   ],
   "source": [
    "array = np.arange(1,26).reshape((5,5))\n",
    "print(array)\n",
    "\n",
    "#array[3:,2:5]\n",
    "\n"
   ]
  },
  {
   "cell_type": "code",
   "execution_count": 22,
   "metadata": {},
   "outputs": [
    {
     "name": "stdout",
     "output_type": "stream",
     "text": [
      "[[ 6  3  9  5]\n",
      " [11  6 12  2]\n",
      " [11  7  8 10]]\n",
      "[[-2  1 -5 -3]\n",
      " [ 5  4  2  0]\n",
      " [-7  5 -6  4]]\n",
      "[[0.5        2.         0.28571429 0.25      ]\n",
      " [2.66666667 5.         1.4        1.        ]\n",
      " [0.22222222 6.         0.14285714 2.33333333]]\n",
      "[[ 8  2 14  4]\n",
      " [24  5 35  1]\n",
      " [18  6  7 21]]\n"
     ]
    }
   ],
   "source": [
    "array_num = np.random.randint(1,10, size=(3,4))\n",
    "arr_num = np.random.randint(1,10,size =(3,4))\n",
    "\n",
    "print(array_num+arr_num)\n",
    "print(array_num-arr_num)\n",
    "print(array_num/arr_num)\n",
    "print(array_num*arr_num)\n",
    "\n",
    "\n",
    "\n"
   ]
  },
  {
   "cell_type": "code",
   "execution_count": 26,
   "metadata": {},
   "outputs": [
    {
     "name": "stdout",
     "output_type": "stream",
     "text": [
      "[[ 1  2  3  4]\n",
      " [ 5  6  7  8]\n",
      " [ 9 10 11 12]\n",
      " [13 14 15 16]]\n",
      "[10 26 42 58]\n",
      "[28 32 36 40]\n"
     ]
    }
   ],
   "source": [
    "array1 =np.arange(1,17).reshape(4,4)\n",
    "print(array1)\n",
    "\n",
    "row_sum = np.sum(array1 , axis=1)\n",
    "col_sum = np.sum(array1,axis=0)\n",
    "\n",
    "print(row_sum)\n",
    "print(col_sum)"
   ]
  },
  {
   "cell_type": "code",
   "execution_count": 27,
   "metadata": {},
   "outputs": [
    {
     "name": "stdout",
     "output_type": "stream",
     "text": [
      "4.68\n",
      "5.0\n",
      "2.3785709995709605\n",
      "5.657599999999999\n"
     ]
    }
   ],
   "source": [
    "array1_num = np.random.randint(1,10, size=(5,5))\n",
    "\n",
    "mean  = np.mean(array1_num)\n",
    "print(mean)\n",
    "\n",
    "medain = np.median(array1_num)\n",
    "print(medain)\n",
    "\n",
    "std_dev = np.std(array1_num)\n",
    "print(std_dev)\n",
    "\n",
    "vari = np.var(array1_num)\n",
    "print(vari)"
   ]
  },
  {
   "cell_type": "code",
   "execution_count": 38,
   "metadata": {},
   "outputs": [
    {
     "name": "stdout",
     "output_type": "stream",
     "text": [
      "[[ 9  5  2 10]\n",
      " [ 2  1  9  5]\n",
      " [ 3  3  9  3]\n",
      " [ 2  3  8  7]]\n",
      "[9 3 4 2]\n",
      "[[ 0 -4 -7  1]\n",
      " [-1 -2  6  2]\n",
      " [-1 -1  5 -1]\n",
      " [ 0  1  6  5]]\n"
     ]
    }
   ],
   "source": [
    "array =np.random.randint(1,11,size =(4,4))\n",
    "print(array)\n",
    "row_array = np.random.randint(1, 11, size=(4,))\n",
    "print(row_array)\n",
    "\n",
    "result = array-row_array[:,np.newaxis]\n",
    "print(result)"
   ]
  },
  {
   "cell_type": "code",
   "execution_count": 39,
   "metadata": {},
   "outputs": [
    {
     "name": "stdout",
     "output_type": "stream",
     "text": [
      "orignial matrix \n",
      " [[5 9 2]\n",
      " [2 1 1]\n",
      " [1 2 8]]\n",
      "-98.99999999999999\n",
      "[[-0.06060606  0.68686869 -0.07070707]\n",
      " [ 0.15151515 -0.38383838  0.01010101]\n",
      " [-0.03030303  0.01010101  0.13131313]]\n",
      "[-1.71059761  5.89795148  9.81264613]\n"
     ]
    }
   ],
   "source": [
    "matrix = np.random.randint(1,11,size=(3,3))\n",
    "print('orignial matrix \\n', matrix)\n",
    "\n",
    "det = np.linalg.det(matrix)\n",
    "print(det)\n",
    "\n",
    "inv = np.linalg.inv(matrix)\n",
    "print(inv)\n",
    "\n",
    "egin = np.linalg.eigvals(matrix)\n",
    "print(egin)\n",
    "\n"
   ]
  },
  {
   "cell_type": "code",
   "execution_count": 40,
   "metadata": {},
   "outputs": [
    {
     "name": "stdout",
     "output_type": "stream",
     "text": [
      "Array 1:\n",
      "[[ 3  7 10]\n",
      " [ 8  2 10]]\n",
      "Array 2:\n",
      "[[ 2 10]\n",
      " [10  6]\n",
      " [ 9 10]]\n",
      "Matrix multiplication result:\n",
      "[[166 172]\n",
      " [126 192]]\n"
     ]
    }
   ],
   "source": [
    "array1 = np.random.randint(1, 11, size=(2, 3))\n",
    "array2 = np.random.randint(1, 11, size=(3, 2))\n",
    "print(\"Array 1:\")\n",
    "print(array1)\n",
    "print(\"Array 2:\")\n",
    "print(array2)\n",
    "\n",
    "# Perform matrix multiplication\n",
    "result = np.dot(array1, array2)\n",
    "print(\"Matrix multiplication result:\")\n",
    "print(result)"
   ]
  },
  {
   "cell_type": "code",
   "execution_count": 12,
   "metadata": {},
   "outputs": [
    {
     "name": "stdout",
     "output_type": "stream",
     "text": [
      "(3, 3)\n",
      "Reshaped_arr [[7 7 8 7 5 1 3 6 1]]\n",
      "Reshaped_arr [[7]\n",
      " [7]\n",
      " [8]\n",
      " [7]\n",
      " [5]\n",
      " [1]\n",
      " [3]\n",
      " [6]\n",
      " [1]]\n"
     ]
    }
   ],
   "source": [
    "arr1 = np.random.randint(1,9, size =(3,3))\n",
    "print(arr1.shape)\n",
    "\n",
    "reshape_array = arr1.reshape((1,9))\n",
    "print('Reshaped_arr',reshape_array)\n",
    "\n",
    "reshape_array1 = arr1.reshape((9,1))\n",
    "print('Reshaped_arr',reshape_array1)\n"
   ]
  },
  {
   "cell_type": "code",
   "execution_count": 14,
   "metadata": {},
   "outputs": [
    {
     "name": "stdout",
     "output_type": "stream",
     "text": [
      "oringal array\n",
      "[[ 5  7 15  1 17]\n",
      " [14 11 10  1 14]\n",
      " [ 5 16  8  8 20]\n",
      " [15 19 16  9 13]\n",
      " [15 14 19  3 14]]\n",
      "flat array\n",
      "[ 5  7 15  1 17 14 11 10  1 14  5 16  8  8 20 15 19 16  9 13 15 14 19  3\n",
      " 14]\n",
      "[[ 5  7 15  1 17]\n",
      " [14 11 10  1 14]\n",
      " [ 5 16  8  8 20]\n",
      " [15 19 16  9 13]\n",
      " [15 14 19  3 14]]\n"
     ]
    }
   ],
   "source": [
    "array = np.random.randint(1,21,size =(5,5))\n",
    "print(\"oringal array\")\n",
    "print(array)\n",
    "\n",
    "#faltten\n",
    "flat = array.flatten()\n",
    "\n",
    "print(\"flat array\")\n",
    "print(flat)\n",
    "\n",
    "resdaape =  flat.reshape(5,5)\n",
    "\n",
    "print(resdaape)"
   ]
  },
  {
   "cell_type": "code",
   "execution_count": 17,
   "metadata": {},
   "outputs": [
    {
     "name": "stdout",
     "output_type": "stream",
     "text": [
      "[[ 1 10  7 10  9]\n",
      " [11 14 14 13  6]\n",
      " [12 15 17  1 12]\n",
      " [17 12  6 10  1]\n",
      " [11 16 16  7 15]]\n",
      "[ 1  9 11 15]\n"
     ]
    }
   ],
   "source": [
    "array = np.random.randint(1,21,size =(5,5))\n",
    "print(array)\n",
    "corner = array[[0,0,-1,-1],[0,-1,0,-1]]\n",
    "\n",
    "print(corner)\n"
   ]
  },
  {
   "cell_type": "code",
   "execution_count": null,
   "metadata": {},
   "outputs": [],
   "source": []
  }
 ],
 "metadata": {
  "kernelspec": {
   "display_name": "Python 3",
   "language": "python",
   "name": "python3"
  },
  "language_info": {
   "codemirror_mode": {
    "name": "ipython",
    "version": 3
   },
   "file_extension": ".py",
   "mimetype": "text/x-python",
   "name": "python",
   "nbconvert_exporter": "python",
   "pygments_lexer": "ipython3",
   "version": "3.12.0"
  }
 },
 "nbformat": 4,
 "nbformat_minor": 2
}
