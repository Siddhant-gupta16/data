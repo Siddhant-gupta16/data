{
 "cells": [
  {
   "cell_type": "code",
   "execution_count": 1,
   "metadata": {},
   "outputs": [],
   "source": [
    "import numpy as np\n",
    "import pandas as pd\n"
   ]
  },
  {
   "cell_type": "code",
   "execution_count": null,
   "metadata": {},
   "outputs": [
    {
     "name": "stdout",
     "output_type": "stream",
     "text": [
      "[[18  6  1  1  5]\n",
      " [18 20  1 20 14]\n",
      " [20 20  1  2  1]\n",
      " [14 11  1  7 18]\n",
      " [ 2 17  1 18  6]]\n"
     ]
    }
   ],
   "source": [
    "arr = np.random.randint(1,21 ,size=(5,5))\n",
    "#print(arr)\n",
    "#replacing elemnt in 3rd colum  with one\n",
    "\n",
    "arr[:,2]=1\n",
    "print(arr)\n",
    "\n"
   ]
  },
  {
   "cell_type": "code",
   "execution_count": 16,
   "metadata": {},
   "outputs": [
    {
     "name": "stdout",
     "output_type": "stream",
     "text": [
      "[[ 1  2  3  4]\n",
      " [ 5  6  7  8]\n",
      " [ 9 10 11 12]\n",
      " [13 14 15 16]]\n",
      "[[ 0  2  3  4]\n",
      " [ 5  0  7  8]\n",
      " [ 9 10  0 12]\n",
      " [13 14 15  0]]\n"
     ]
    }
   ],
   "source": [
    "aa = np.arange(1,17).reshape((4,4))\n",
    "print(aa)\n",
    "\n",
    "\n",
    "##replacing daigonal elemn\n",
    "\n",
    "np.fill_diagonal(aa,0)\n",
    "\n",
    "print(aa)\n",
    "\n"
   ]
  }
 ],
 "metadata": {
  "kernelspec": {
   "display_name": "Python 3",
   "language": "python",
   "name": "python3"
  },
  "language_info": {
   "codemirror_mode": {
    "name": "ipython",
    "version": 3
   },
   "file_extension": ".py",
   "mimetype": "text/x-python",
   "name": "python",
   "nbconvert_exporter": "python",
   "pygments_lexer": "ipython3",
   "version": "3.12.0"
  }
 },
 "nbformat": 4,
 "nbformat_minor": 2
}
